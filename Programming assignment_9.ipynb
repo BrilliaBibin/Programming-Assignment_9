{
 "cells": [
  {
   "cell_type": "raw",
   "id": "872c8b23-ff74-4742-8e6e-59a3cefe8ba5",
   "metadata": {},
   "source": [
    "1. Write a Python program to check if the given number is a Disarium Number?"
   ]
  },
  {
   "cell_type": "code",
   "execution_count": 2,
   "id": "f2dcae7f-a4f6-4bf2-a941-3a673cf9fa80",
   "metadata": {},
   "outputs": [
    {
     "name": "stdin",
     "output_type": "stream",
     "text": [
      "Enter a number: 234\n"
     ]
    },
    {
     "name": "stdout",
     "output_type": "stream",
     "text": [
      "Not a Disarium Number\n"
     ]
    }
   ],
   "source": [
    "import math\n",
    "\n",
    "def check(n) :\n",
    "\n",
    "\tcount_digits = len(str(n))\n",
    "\t\n",
    "\tsum = 0\n",
    "\tx = n\n",
    "\twhile (x!=0) :\n",
    "\n",
    "\t\tr = x % 10\n",
    "\t\t\n",
    "\t\tsum = (int) (sum + math.pow(r, count_digits))\n",
    "\t\tcount_digits = count_digits - 1\n",
    "\t\tx = x//10\n",
    "\t\t\n",
    "\tif sum == n :\n",
    "\t\treturn 1\n",
    "\telse :\n",
    "\t\treturn 0\n",
    "\t\n",
    "n = float(input(\"Enter a number:\"))\n",
    "if (check(n) == 1) :\n",
    "\tprint (\"Disarium Number\")\n",
    "else :\n",
    "\tprint (\"Not a Disarium Number\")\n"
   ]
  },
  {
   "cell_type": "raw",
   "id": "73dc7680-0336-4622-b8d8-a9f85a448286",
   "metadata": {},
   "source": [
    "2. Write a Python program to print all disarium numbers between 1 to 100?"
   ]
  },
  {
   "cell_type": "code",
   "execution_count": 3,
   "id": "914acd14-7fde-403b-886e-59998047a808",
   "metadata": {},
   "outputs": [
    {
     "name": "stdout",
     "output_type": "stream",
     "text": [
      "Disarium numbers between 1 and 100 are\n",
      "1\n",
      "2\n",
      "3\n",
      "4\n",
      "5\n",
      "6\n",
      "7\n",
      "8\n",
      "9\n",
      "89\n"
     ]
    }
   ],
   "source": [
    "def calculateLength(n):    \n",
    "    length = 0;    \n",
    "    while(n != 0):    \n",
    "        length = length + 1;    \n",
    "        n = n//10;    \n",
    "    return length;    \n",
    "        \n",
    "def sumOfDigits(num):    \n",
    "    rem = sum = 0;    \n",
    "    len = calculateLength(num);    \n",
    "        \n",
    "    while(num > 0):    \n",
    "        rem = num%10;    \n",
    "        sum = sum + (rem**len);    \n",
    "        num = num//10;    \n",
    "        len = len - 1;    \n",
    "    return sum;    \n",
    "      \n",
    "result = 0;    \n",
    "        \n",
    "print(\"Disarium numbers between 1 and 100 are\");    \n",
    "for i in range(1, 101):    \n",
    "    result = sumOfDigits(i);    \n",
    "        \n",
    "    if(result == i):    \n",
    "        print(i),    "
   ]
  },
  {
   "cell_type": "raw",
   "id": "b7ad06e0-133c-4580-96de-e9c5ffc61931",
   "metadata": {},
   "source": [
    "3. Write a Python program to check if the given number is Happy Number?"
   ]
  },
  {
   "cell_type": "code",
   "execution_count": 10,
   "id": "4875be1d-0b45-4ad0-9187-d8c23f8d511a",
   "metadata": {},
   "outputs": [
    {
     "name": "stdin",
     "output_type": "stream",
     "text": [
      "Enter a number 32\n"
     ]
    },
    {
     "name": "stdout",
     "output_type": "stream",
     "text": [
      "32 is a Happy number\n"
     ]
    }
   ],
   "source": [
    "def numSquareSum(n):\n",
    "\tsquareSum = 0;\n",
    "\twhile(n):\n",
    "\t\tsquareSum += (n % 10) * (n % 10);\n",
    "\t\tn = int(n / 10);\n",
    "\treturn squareSum;\n",
    "\n",
    "\n",
    "def isHappynumber(n):\n",
    "\n",
    "\tslow = n;\n",
    "\tfast = n;\n",
    "\twhile(True):\n",
    "\t\t\n",
    "\t\tslow = numSquareSum(slow);\n",
    "\n",
    "\t\tfast = numSquareSum(numSquareSum(fast));\n",
    "\t\tif(slow != fast):\n",
    "\t\t\tcontinue;\n",
    "\t\telse:\n",
    "\t\t\tbreak;\n",
    "\n",
    "\treturn (slow == 1);\n",
    "\n",
    "\n",
    "n = int(input(\"Enter a number\"))\n",
    "if (isHappynumber(n)):\n",
    "\tprint(n , \"is a Happy number\");\n",
    "else:\n",
    "\tprint(n , \"is not a Happy number\");\n",
    "\n"
   ]
  },
  {
   "cell_type": "raw",
   "id": "351e44e0-5102-4d41-8e93-1164ee724a42",
   "metadata": {},
   "source": [
    "4. Write a Python program to print all happy numbers between 1 and 100?"
   ]
  },
  {
   "cell_type": "code",
   "execution_count": 11,
   "id": "284b5fd2-3025-40a8-9a5e-3f285d76b368",
   "metadata": {},
   "outputs": [
    {
     "name": "stdin",
     "output_type": "stream",
     "text": [
      "Enter the Minimum Happy Number =  1\n",
      "Enter the Maximum Happy Number =  100\n"
     ]
    },
    {
     "name": "stdout",
     "output_type": "stream",
     "text": [
      "\n",
      "The List of Happy Numbers from 1 and 100\n",
      "1  7  10  13  19  23  28  31  32  44  49  68  70  79  82  86  91  94  97  100  "
     ]
    }
   ],
   "source": [
    "import math\n",
    "def digitsSquareSum(Number):\n",
    "    Sum = rem = 0\n",
    "    while Number > 0:\n",
    "        rem = Number % 10\n",
    "        Sum = Sum + math.pow(rem, 2)\n",
    "        Number = Number // 10\n",
    "    return Sum\n",
    "\n",
    "\n",
    "minHpy = int(input(\"Enter the Minimum Happy Number = \"))\n",
    "maxHpy = int(input(\"Enter the Maximum Happy Number = \"))\n",
    "\n",
    "print(\"\\nThe List of Happy Numbers from {0} and {1}\".format(minHpy, maxHpy)) \n",
    "for i in range(minHpy, maxHpy + 1):\n",
    "    Temp = i\n",
    "\n",
    "    while Temp != 1 and Temp != 4:\n",
    "        Temp = digitsSquareSum(Temp)\n",
    "\n",
    "    if Temp == 1:\n",
    "        print(i, end  = '  ')\n"
   ]
  },
  {
   "cell_type": "raw",
   "id": "4a6256b4-df87-4842-a29a-a6f92278ba79",
   "metadata": {},
   "source": [
    "5. Write a Python program to determine whether the given number is a Harshad Number?"
   ]
  },
  {
   "cell_type": "code",
   "execution_count": 13,
   "id": "6b948f2e-42a2-4a2a-a3b5-8402d6521958",
   "metadata": {},
   "outputs": [
    {
     "name": "stdin",
     "output_type": "stream",
     "text": [
      "Enter the Number to Check Harshad Number =  23\n"
     ]
    },
    {
     "name": "stdout",
     "output_type": "stream",
     "text": [
      "The Sum of the Digits = 5\n",
      "23 is Not a Harshad Number.\n"
     ]
    }
   ],
   "source": [
    "Number = int(input(\"Enter the Number to Check Harshad Number = \"))\n",
    "Sum = 0\n",
    "rem = 0\n",
    "\n",
    "Temp = Number\n",
    "while Temp > 0:\n",
    "    rem = Temp % 10\n",
    "    Sum = Sum + rem\n",
    "    Temp = Temp // 10\n",
    "\n",
    "print(\"The Sum of the Digits = %d\" %Sum)\n",
    "\n",
    "if Number % Sum == 0:\n",
    "    print(\"\\n%d is a Harshad Number.\" %Number)\n",
    "else:\n",
    "    print(\"%d is Not a Harshad Number.\" %Number)"
   ]
  },
  {
   "cell_type": "raw",
   "id": "ab86fb87-abf0-4ed5-9ba2-a59c6e16bd3c",
   "metadata": {},
   "source": [
    "6. Write a Python program to print all pronic numbers between 1 and 100?"
   ]
  },
  {
   "cell_type": "code",
   "execution_count": 14,
   "id": "a68a6a36-7223-48fd-ae9e-88d2d1753677",
   "metadata": {},
   "outputs": [
    {
     "name": "stdin",
     "output_type": "stream",
     "text": [
      "Enter the Minimum =  200\n",
      "Enter the Maximum =  300\n"
     ]
    },
    {
     "name": "stdout",
     "output_type": "stream",
     "text": [
      "\n",
      "The List of Pronic Numbers from 200 and 300\n",
      "210   240   272   "
     ]
    }
   ],
   "source": [
    "def checkPronic(Number):\n",
    "    flag = 0\n",
    "    for i in range(Number + 1):\n",
    "        if Number == i * (i + 1):\n",
    "            flag = 1\n",
    "            break\n",
    "    return flag\n",
    "\n",
    "minPro = int(input(\"Enter the Minimum = \"))\n",
    "maxPro = int(input(\"Enter the Maximum = \"))\n",
    "\n",
    "print(\"\\nThe List of Pronic Numbers from {0} and {1}\".format(minPro, maxPro)) \n",
    "for i in range(minPro, maxPro):\n",
    "    if(checkPronic(i) == 1):\n",
    "        print(i, end = '   ')"
   ]
  }
 ],
 "metadata": {
  "kernelspec": {
   "display_name": "Python 3 (ipykernel)",
   "language": "python",
   "name": "python3"
  },
  "language_info": {
   "codemirror_mode": {
    "name": "ipython",
    "version": 3
   },
   "file_extension": ".py",
   "mimetype": "text/x-python",
   "name": "python",
   "nbconvert_exporter": "python",
   "pygments_lexer": "ipython3",
   "version": "3.10.6"
  }
 },
 "nbformat": 4,
 "nbformat_minor": 5
}
